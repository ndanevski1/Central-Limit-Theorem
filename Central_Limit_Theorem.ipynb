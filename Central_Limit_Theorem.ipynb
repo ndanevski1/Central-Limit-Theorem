{
  "nbformat": 4,
  "nbformat_minor": 0,
  "metadata": {
    "colab": {
      "name": "Central Limit Theorem.ipynb",
      "provenance": []
    },
    "kernelspec": {
      "name": "python3",
      "display_name": "Python 3"
    }
  },
  "cells": [
    {
      "cell_type": "code",
      "metadata": {
        "id": "zEBbI8CxGSts",
        "colab_type": "code",
        "colab": {}
      },
      "source": [
        "import numpy as np\n",
        "from matplotlib import pyplot as plt\n",
        "from scipy.stats import norm"
      ],
      "execution_count": 1,
      "outputs": []
    },
    {
      "cell_type": "markdown",
      "metadata": {
        "id": "wBR0SEalY1wl",
        "colab_type": "text"
      },
      "source": [
        "First, let's create an array of 8000 random numbers in the range (0, 1000)."
      ]
    },
    {
      "cell_type": "code",
      "metadata": {
        "id": "BeulhRThNuds",
        "colab_type": "code",
        "colab": {}
      },
      "source": [
        "arr = np.random.randint(1000, size = 8000)"
      ],
      "execution_count": 2,
      "outputs": []
    },
    {
      "cell_type": "markdown",
      "metadata": {
        "id": "Q3w5Go_IZb-D",
        "colab_type": "text"
      },
      "source": [
        "Now let's plot the values to see that they are indeed randomly scattered."
      ]
    },
    {
      "cell_type": "code",
      "metadata": {
        "id": "vrA0hMj4Ouw6",
        "colab_type": "code",
        "colab": {
          "base_uri": "https://localhost:8080/",
          "height": 336
        },
        "outputId": "bf3dffb4-27ce-4a08-bc67-bfc0f9ccc768"
      },
      "source": [
        "fig = plt.figure(figsize = (10, 5)) \n",
        "plt.hist(arr, bins = [i for i in range(0, 1000, 10)])  \n",
        "plt.title(\"Histogram of the values\")  \n",
        "  \n",
        "# show plot \n",
        "plt.show() "
      ],
      "execution_count": 3,
      "outputs": [
        {
          "output_type": "display_data",
          "data": {
            "image/png": "[encoded data removed]",
            "text/plain": [
              "<Figure size 720x360 with 1 Axes>"
            ]
          },
          "metadata": {
            "tags": [],
            "needs_background": "light"
          }
        }
      ]
    },
    {
      "cell_type": "code",
      "metadata": {
        "id": "m19W5tNpOIyA",
        "colab_type": "code",
        "colab": {}
      },
      "source": [
        "mean = arr.mean()\n",
        "var = arr.var()"
      ],
      "execution_count": 4,
      "outputs": []
    },
    {
      "cell_type": "markdown",
      "metadata": {
        "id": "I0vUdp8CZ26T",
        "colab_type": "text"
      },
      "source": [
        "Next, we are going to take 50 samples of our array, each containing 30 numbers randomly chosen from the array.\n",
        "We calculate the mean of the samples and save it to a new array."
      ]
    },
    {
      "cell_type": "code",
      "metadata": {
        "id": "hA1PElicOhwH",
        "colab_type": "code",
        "colab": {}
      },
      "source": [
        "n = 30 # sample size\n",
        "k = 50 # number of samples\n",
        "\n",
        "mean_list = np.array([])\n",
        "for i in range (0, k):\n",
        "    curr_arr = np.random.choice(arr, n)\n",
        "    mean_list = np.append(mean_list, [curr_arr.mean()])"
      ],
      "execution_count": 5,
      "outputs": []
    },
    {
      "cell_type": "markdown",
      "metadata": {
        "id": "8nAm7_CkaGG-",
        "colab_type": "text"
      },
      "source": [
        "Now, we apply the Central Limit Theorem. We see that the results are very close, indeed."
      ]
    },
    {
      "cell_type": "code",
      "metadata": {
        "id": "XIE7lej1RV8v",
        "colab_type": "code",
        "colab": {
          "base_uri": "https://localhost:8080/",
          "height": 68
        },
        "outputId": "3fb46dbb-c3fd-4251-ce1f-bac87844016d"
      },
      "source": [
        "clt_mean = mean_list.mean()\n",
        "clt_var = mean_list.var()\n",
        "\n",
        "print(\"Real mean = \", mean, \", real variance = \", var)\n",
        "print(\"We should expect to see mean relatively close to\", mean, \" and variance relatively close to \", var/n)\n",
        "print(\"After \", k, \" samples of size \", n, \", using Central Limit Theorem we get estimate for mean = \", clt_mean, \", and of variance = \", clt_var)"
      ],
      "execution_count": 6,
      "outputs": [
        {
          "output_type": "stream",
          "text": [
            "Real mean =  504.296375 , real variance =  83864.49428685938\n",
            "We should expect to see mean relatively close to 504.296375  and variance relatively close to  2795.4831428953125\n",
            "After  50  samples of size  30 , using Central Limit Theorem we get estimate for mean =  501.82400000000007 , and of variance =  3349.697824\n"
          ],
          "name": "stdout"
        }
      ]
    },
    {
      "cell_type": "markdown",
      "metadata": {
        "id": "9AuukglYaQFN",
        "colab_type": "text"
      },
      "source": [
        "Finally, let's plot the array of the means. We can see that it does resemble the normal distribution. By taking more samples bigger in size, eventually we would get to a fully normal distribution."
      ]
    },
    {
      "cell_type": "code",
      "metadata": {
        "id": "big12guLSNrW",
        "colab_type": "code",
        "colab": {
          "base_uri": "https://localhost:8080/",
          "height": 336
        },
        "outputId": "5b945eb6-2f13-43c8-d248-3d65725992bb"
      },
      "source": [
        "fig = plt.figure(figsize =(10, 5)) \n",
        "plt.hist(mean_list, bins = [i for i in range(0, 1000, 10)])  \n",
        "plt.title(\"Histogram of the mean values.\")\n",
        "\n",
        "# show plot \n",
        "plt.show() "
      ],
      "execution_count": 7,
      "outputs": [
        {
          "output_type": "display_data",
          "data": {
            "image/png": "[encoded data removed]",
            "text/plain": [
              "<Figure size 720x360 with 1 Axes>"
            ]
          },
          "metadata": {
            "tags": [],
            "needs_background": "light"
          }
        }
      ]
    }
  ]
}